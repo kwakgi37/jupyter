{
 "cells": [
  {
   "cell_type": "markdown",
   "id": "76f29c18",
   "metadata": {},
   "source": [
    "### 커서 이동시 결과 출력"
   ]
  },
  {
   "cell_type": "code",
   "execution_count": 1,
   "id": "64d2d183",
   "metadata": {},
   "outputs": [
    {
     "name": "stdout",
     "output_type": "stream",
     "text": [
      "이미지 전체 픽셀 수:  252280\n",
      "식물 영역의 녹색 픽셀 수: 5498\n",
      "식물 영역의 녹색 비율: 2.18%\n"
     ]
    }
   ],
   "source": [
    "import cv2\n",
    "import numpy as np\n",
    "\n",
    "# 커서 아래의 픽셀의 HSV 값을 가져오기 위한 콜백 함수\n",
    "def get_hsv_values(event, x, y, flags, param):\n",
    "    if event == cv2.EVENT_MOUSEMOVE:\n",
    "        # 커서 아래 픽셀의 HSV 값을 가져옵니다.\n",
    "        hsv_values = hsv_image[y, x]\n",
    "        # 값이 지정된 범위 내에 있는지 확인합니다.\n",
    "        is_within_range = (lower_green <= hsv_values) & (hsv_values <= upper_green)\n",
    "        result = 1 if np.all(is_within_range) else 0\n",
    "        # 결과를 이미지에 표시합니다.\n",
    "        result_image = image.copy()\n",
    "        result_image[green_mask != 0] = [0, 255, 0]  # 감지된 영역에 녹색 색상 적용\n",
    "        cv2.putText(result_image, str(result), (image.shape[1] - 30, image.shape[0] - 10),\n",
    "                    cv2.FONT_HERSHEY_SIMPLEX, 1, (255, 255, 255), 2, cv2.LINE_AA)\n",
    "        # 이미지를 표시합니다.\n",
    "        cv2.imshow('Detected_Green_Regions', result_image)\n",
    "\n",
    "# 이미지 파일을 읽어옵니다.\n",
    "image = cv2.imread('test3.jpg')\n",
    "\n",
    "# 이미지를 HSV로 변환합니다.\n",
    "hsv_image = cv2.cvtColor(image, cv2.COLOR_BGR2HSV)\n",
    "\n",
    "# 녹색 식물 영역을 분리합니다.\n",
    "lower_green = np.array([30, 30, 30])  # 하한값을 조정\n",
    "upper_green = np.array([90, 255, 255])  # 상한값을 조정\n",
    "green_mask = cv2.inRange(hsv_image, lower_green, upper_green)\n",
    "\n",
    "# 녹색 영역에서 녹색 픽셀 수를 측정합니다.\n",
    "green_pixels = np.count_nonzero(green_mask)\n",
    "\n",
    "# 전체 픽셀 수를 계산합니다.\n",
    "total_pixels = image.shape[0] * image.shape[1]\n",
    "\n",
    "# 녹색 비율을 계산합니다.\n",
    "green_ratio = green_pixels / total_pixels\n",
    "\n",
    "# 녹색 픽셀 수를 출력합니다.\n",
    "print(\"이미지 전체 픽셀 수: \", total_pixels)\n",
    "print(\"식물 영역의 녹색 픽셀 수:\", green_pixels)\n",
    "\n",
    "# 녹색 비율을 출력합니다.\n",
    "print(\"식물 영역의 녹색 비율: {:.2%}\".format(green_ratio))\n",
    "\n",
    "# 창과 콜백을 설정합니다.\n",
    "cv2.namedWindow('Detected_Green_Regions')\n",
    "cv2.setMouseCallback('Detected_Green_Regions', get_hsv_values)\n",
    "\n",
    "# 초기 결과 이미지를 표시합니다.\n",
    "result_image = image.copy()\n",
    "result_image[green_mask != 0] = [0, 255, 0]  # 감지된 영역에 녹색 색상 적용\n",
    "cv2.imshow('Detected_Green_Regions', result_image)\n",
    "\n",
    "cv2.waitKey(0)\n",
    "cv2.destroyAllWindows()\n"
   ]
  },
  {
   "cell_type": "markdown",
   "id": "413c8924",
   "metadata": {},
   "source": [
    "### 마우스 클릭시 원 생성, 드래그로 원 크기 조정, 원이 만들어진 이후 마우스 클릭시 클릭한 곳으로 원 이동"
   ]
  },
  {
   "cell_type": "code",
   "execution_count": 8,
   "id": "c396862a",
   "metadata": {},
   "outputs": [
    {
     "name": "stdout",
     "output_type": "stream",
     "text": [
      "식물 영역의 녹색 비율: 2.18%\n"
     ]
    }
   ],
   "source": [
    "import cv2\n",
    "import numpy as np\n",
    "\n",
    "# 전역 변수 설정\n",
    "center = (-1, -1)\n",
    "drawing = False\n",
    "radius = 0\n",
    "\n",
    "# 마우스 이벤트 처리 함수\n",
    "def on_mouse(event, x, y, flags, param):\n",
    "    global center, drawing, radius\n",
    "\n",
    "    if event == cv2.EVENT_LBUTTONDOWN:\n",
    "        # 마우스 클릭 시작 지점 설정\n",
    "        center = (x, y)\n",
    "        drawing = True\n",
    "\n",
    "    elif event == cv2.EVENT_LBUTTONUP:\n",
    "        # 마우스 클릭 종료\n",
    "        drawing = False\n",
    "\n",
    "    elif event == cv2.EVENT_MOUSEMOVE:\n",
    "        # 마우스 이동 중, 현재 그리고 있는 원의 크기 동적으로 조절\n",
    "        if drawing:\n",
    "            radius = int(np.sqrt((x - center[0])**2 + (y - center[1])**2))\n",
    "\n",
    "# 이미지 파일을 읽어옵니다.\n",
    "image = cv2.imread('test3.jpg')\n",
    "\n",
    "# 이미지를 HSV로 변환합니다.\n",
    "hsv_image = cv2.cvtColor(image, cv2.COLOR_BGR2HSV)\n",
    "\n",
    "# 녹색 식물 영역을 분리합니다.\n",
    "lower_green = np.array([30, 30, 30])  # 하한값을 조정\n",
    "upper_green = np.array([90, 255, 255])  # 상한값을 조정\n",
    "green_mask = cv2.inRange(hsv_image, lower_green, upper_green)\n",
    "\n",
    "# 녹색 영역에서 녹색 픽셀 수를 측정합니다.\n",
    "green_pixels = np.count_nonzero(green_mask)\n",
    "\n",
    "# 전체 픽셀 수를 계산합니다.\n",
    "total_pixels = image.shape[0] * image.shape[1]\n",
    "\n",
    "# 녹색 비율을 계산합니다.\n",
    "green_ratio = green_pixels / total_pixels\n",
    "print(\"식물 영역의 녹색 비율: {:.2%}\".format(green_ratio))\n",
    "\n",
    "# 시각화를 위해 녹색 마스크를 원본 이미지에 오버레이합니다.\n",
    "result_image = image.copy()\n",
    "result_image[green_mask != 0] = [0, 255, 0]  # Green color for the detected regions\n",
    "\n",
    "# 마우스 이벤트 콜백 함수 등록\n",
    "cv2.namedWindow('Detected_Green_Regions')\n",
    "cv2.setMouseCallback('Detected_Green_Regions', on_mouse)\n",
    "\n",
    "while True:\n",
    "    # 마우스 이벤트를 처리하며 계속해서 표시\n",
    "    temp_image = result_image.copy()\n",
    "    cv2.circle(temp_image, center, radius, (0, 0, 0), 2)\n",
    "    cv2.imshow('Detected_Green_Regions', temp_image)\n",
    "\n",
    "    key = cv2.waitKey(20) & 0xFF\n",
    "    if key == 27:  # ESC 키를 누르면 종료\n",
    "        break\n",
    "\n",
    "cv2.destroyAllWindows()\n"
   ]
  },
  {
   "cell_type": "markdown",
   "id": "ff6a1fbf",
   "metadata": {},
   "source": [
    "#### 한 번 두개의 이벤트를 합쳐보는 곳"
   ]
  },
  {
   "cell_type": "code",
   "execution_count": 9,
   "id": "6331f8d9",
   "metadata": {},
   "outputs": [
    {
     "name": "stdout",
     "output_type": "stream",
     "text": [
      "이미지 전체 픽셀 수:  252280\n",
      "식물 영역의 녹색 픽셀 수: 5498\n",
      "식물 영역의 녹색 비율: 2.18%\n"
     ]
    }
   ],
   "source": [
    "import cv2\n",
    "import numpy as np\n",
    "center = (-1, -1)\n",
    "drawing = False\n",
    "radius = 0\n",
    "\n",
    "# 커서 아래의 픽셀의 HSV 값을 가져오기 위한 콜백 함수\n",
    "def get_hsv_values(event, x, y, flags, param):\n",
    "    global center, drawing, radius\n",
    "\n",
    "    if event == cv2.EVENT_LBUTTONDOWN:\n",
    "        # 마우스 클릭 시작 지점 설정\n",
    "        center = (x, y)\n",
    "        drawing = True\n",
    "\n",
    "    elif event == cv2.EVENT_LBUTTONUP:\n",
    "        # 마우스 클릭 종료\n",
    "        drawing = False\n",
    "\n",
    "    elif event == cv2.EVENT_MOUSEMOVE:\n",
    "        hsv_values = hsv_image[y, x]\n",
    "        # 값이 지정된 범위 내에 있는지 확인합니다.\n",
    "        is_within_range = (lower_green <= hsv_values) & (hsv_values <= upper_green)\n",
    "        result = 1 if np.all(is_within_range) else 0\n",
    "        # 결과를 이미지에 표시합니다.\n",
    "        result_image = image.copy()\n",
    "        result_image[green_mask != 0] = [0, 255, 0]  # 감지된 영역에 녹색 색상 적용\n",
    "        cv2.putText(result_image, str(result), (image.shape[1] - 30, image.shape[0] - 10),\n",
    "                    cv2.FONT_HERSHEY_SIMPLEX, 1, (255, 255, 255), 2, cv2.LINE_AA)\n",
    "        # 이미지를 표시합니다.\n",
    "        cv2.imshow('Detected_Green_Regions', result_image)\n",
    "        # 마우스 이동 중, 현재 그리고 있는 원의 크기 동적으로 조절\n",
    "        if drawing:\n",
    "            radius = int(np.sqrt((x - center[0])**2 + (y - center[1])**2))\n",
    "\n",
    "# 이미지 파일을 읽어옵니다.\n",
    "image = cv2.imread('test3.jpg')\n",
    "\n",
    "# 이미지를 HSV로 변환합니다.\n",
    "hsv_image = cv2.cvtColor(image, cv2.COLOR_BGR2HSV)\n",
    "\n",
    "# 녹색 식물 영역을 분리합니다.\n",
    "lower_green = np.array([30, 30, 30])  # 하한값을 조정\n",
    "upper_green = np.array([90, 255, 255])  # 상한값을 조정\n",
    "green_mask = cv2.inRange(hsv_image, lower_green, upper_green)\n",
    "\n",
    "# 녹색 영역에서 녹색 픽셀 수를 측정합니다.\n",
    "green_pixels = np.count_nonzero(green_mask)\n",
    "\n",
    "# 전체 픽셀 수를 계산합니다.\n",
    "total_pixels = image.shape[0] * image.shape[1]\n",
    "\n",
    "# 녹색 비율을 계산합니다.\n",
    "green_ratio = green_pixels / total_pixels\n",
    "\n",
    "# 녹색 픽셀 수를 출력합니다.\n",
    "print(\"이미지 전체 픽셀 수: \", total_pixels)\n",
    "print(\"식물 영역의 녹색 픽셀 수:\", green_pixels)\n",
    "\n",
    "# 녹색 비율을 출력합니다.\n",
    "print(\"식물 영역의 녹색 비율: {:.2%}\".format(green_ratio))\n",
    "\n",
    "# 창과 콜백을 설정합니다.\n",
    "cv2.namedWindow('Detected_Green_Regions')\n",
    "cv2.setMouseCallback('Detected_Green_Regions', get_hsv_values)\n",
    "\n",
    "# 초기 결과 이미지를 표시합니다.\n",
    "result_image = image.copy()\n",
    "result_image[green_mask != 0] = [0, 255, 0]  # 감지된 영역에 녹색 색상 적용\n",
    "while True:\n",
    "    # 마우스 이벤트를 처리하며 계속해서 표시\n",
    "    temp_image = result_image.copy()\n",
    "    cv2.circle(temp_image, center, radius, (0, 0, 0), 2)\n",
    "    cv2.imshow('Detected_Green_Regions', temp_image)\n",
    "\n",
    "    key = cv2.waitKey(20) & 0xFF\n",
    "    if key == 27:  # ESC 키를 누르면 종료\n",
    "        break\n",
    "cv2.destroyAllWindows()\n"
   ]
  },
  {
   "cell_type": "code",
   "execution_count": 78,
   "id": "ae1f4481",
   "metadata": {},
   "outputs": [
    {
     "name": "stdout",
     "output_type": "stream",
     "text": [
      "Warning: Cannot change to a different GUI toolkit: qt5. Using tk instead.\n"
     ]
    },
    {
     "ename": "ImportError",
     "evalue": "Cannot load backend 'TkAgg' which requires the 'tk' interactive framework, as 'qt' is currently running",
     "output_type": "error",
     "traceback": [
      "\u001b[1;31m---------------------------------------------------------------------------\u001b[0m",
      "\u001b[1;31mImportError\u001b[0m                               Traceback (most recent call last)",
      "Cell \u001b[1;32mIn[78], line 5\u001b[0m\n\u001b[0;32m      3\u001b[0m \u001b[38;5;28;01mimport\u001b[39;00m \u001b[38;5;21;01mos\u001b[39;00m\n\u001b[0;32m      4\u001b[0m \u001b[38;5;28;01mimport\u001b[39;00m \u001b[38;5;21;01mnumpy\u001b[39;00m \u001b[38;5;28;01mas\u001b[39;00m \u001b[38;5;21;01mnp\u001b[39;00m\n\u001b[1;32m----> 5\u001b[0m get_ipython()\u001b[38;5;241m.\u001b[39mrun_line_magic(\u001b[38;5;124m'\u001b[39m\u001b[38;5;124mmatplotlib\u001b[39m\u001b[38;5;124m'\u001b[39m, \u001b[38;5;124m'\u001b[39m\u001b[38;5;124mqt5\u001b[39m\u001b[38;5;124m'\u001b[39m)\n\u001b[0;32m      7\u001b[0m x \u001b[38;5;241m=\u001b[39m np\u001b[38;5;241m.\u001b[39mlinspace(\u001b[38;5;241m0\u001b[39m, \u001b[38;5;241m3\u001b[39m\u001b[38;5;241m*\u001b[39mnp\u001b[38;5;241m.\u001b[39mpi, \u001b[38;5;241m500\u001b[39m)\n\u001b[0;32m      8\u001b[0m plt\u001b[38;5;241m.\u001b[39mplot(x, np\u001b[38;5;241m.\u001b[39msin(x\u001b[38;5;241m*\u001b[39m\u001b[38;5;241m*\u001b[39m\u001b[38;5;241m2\u001b[39m))\n",
      "File \u001b[1;32m~\\anaconda3\\Lib\\site-packages\\IPython\\core\\interactiveshell.py:2432\u001b[0m, in \u001b[0;36mInteractiveShell.run_line_magic\u001b[1;34m(self, magic_name, line, _stack_depth)\u001b[0m\n\u001b[0;32m   2430\u001b[0m     kwargs[\u001b[38;5;124m'\u001b[39m\u001b[38;5;124mlocal_ns\u001b[39m\u001b[38;5;124m'\u001b[39m] \u001b[38;5;241m=\u001b[39m \u001b[38;5;28mself\u001b[39m\u001b[38;5;241m.\u001b[39mget_local_scope(stack_depth)\n\u001b[0;32m   2431\u001b[0m \u001b[38;5;28;01mwith\u001b[39;00m \u001b[38;5;28mself\u001b[39m\u001b[38;5;241m.\u001b[39mbuiltin_trap:\n\u001b[1;32m-> 2432\u001b[0m     result \u001b[38;5;241m=\u001b[39m fn(\u001b[38;5;241m*\u001b[39margs, \u001b[38;5;241m*\u001b[39m\u001b[38;5;241m*\u001b[39mkwargs)\n\u001b[0;32m   2434\u001b[0m \u001b[38;5;66;03m# The code below prevents the output from being displayed\u001b[39;00m\n\u001b[0;32m   2435\u001b[0m \u001b[38;5;66;03m# when using magics with decorator @output_can_be_silenced\u001b[39;00m\n\u001b[0;32m   2436\u001b[0m \u001b[38;5;66;03m# when the last Python token in the expression is a ';'.\u001b[39;00m\n\u001b[0;32m   2437\u001b[0m \u001b[38;5;28;01mif\u001b[39;00m \u001b[38;5;28mgetattr\u001b[39m(fn, magic\u001b[38;5;241m.\u001b[39mMAGIC_OUTPUT_CAN_BE_SILENCED, \u001b[38;5;28;01mFalse\u001b[39;00m):\n",
      "File \u001b[1;32m~\\anaconda3\\Lib\\site-packages\\IPython\\core\\magics\\pylab.py:99\u001b[0m, in \u001b[0;36mPylabMagics.matplotlib\u001b[1;34m(self, line)\u001b[0m\n\u001b[0;32m     97\u001b[0m     \u001b[38;5;28mprint\u001b[39m(\u001b[38;5;124m\"\u001b[39m\u001b[38;5;124mAvailable matplotlib backends: \u001b[39m\u001b[38;5;132;01m%s\u001b[39;00m\u001b[38;5;124m\"\u001b[39m \u001b[38;5;241m%\u001b[39m backends_list)\n\u001b[0;32m     98\u001b[0m \u001b[38;5;28;01melse\u001b[39;00m:\n\u001b[1;32m---> 99\u001b[0m     gui, backend \u001b[38;5;241m=\u001b[39m \u001b[38;5;28mself\u001b[39m\u001b[38;5;241m.\u001b[39mshell\u001b[38;5;241m.\u001b[39menable_matplotlib(args\u001b[38;5;241m.\u001b[39mgui\u001b[38;5;241m.\u001b[39mlower() \u001b[38;5;28;01mif\u001b[39;00m \u001b[38;5;28misinstance\u001b[39m(args\u001b[38;5;241m.\u001b[39mgui, \u001b[38;5;28mstr\u001b[39m) \u001b[38;5;28;01melse\u001b[39;00m args\u001b[38;5;241m.\u001b[39mgui)\n\u001b[0;32m    100\u001b[0m     \u001b[38;5;28mself\u001b[39m\u001b[38;5;241m.\u001b[39m_show_matplotlib_backend(args\u001b[38;5;241m.\u001b[39mgui, backend)\n",
      "File \u001b[1;32m~\\anaconda3\\Lib\\site-packages\\IPython\\core\\interactiveshell.py:3621\u001b[0m, in \u001b[0;36mInteractiveShell.enable_matplotlib\u001b[1;34m(self, gui)\u001b[0m\n\u001b[0;32m   3617\u001b[0m         \u001b[38;5;28mprint\u001b[39m(\u001b[38;5;124m'\u001b[39m\u001b[38;5;124mWarning: Cannot change to a different GUI toolkit: \u001b[39m\u001b[38;5;132;01m%s\u001b[39;00m\u001b[38;5;124m.\u001b[39m\u001b[38;5;124m'\u001b[39m\n\u001b[0;32m   3618\u001b[0m                 \u001b[38;5;124m'\u001b[39m\u001b[38;5;124m Using \u001b[39m\u001b[38;5;132;01m%s\u001b[39;00m\u001b[38;5;124m instead.\u001b[39m\u001b[38;5;124m'\u001b[39m \u001b[38;5;241m%\u001b[39m (gui, \u001b[38;5;28mself\u001b[39m\u001b[38;5;241m.\u001b[39mpylab_gui_select))\n\u001b[0;32m   3619\u001b[0m         gui, backend \u001b[38;5;241m=\u001b[39m pt\u001b[38;5;241m.\u001b[39mfind_gui_and_backend(\u001b[38;5;28mself\u001b[39m\u001b[38;5;241m.\u001b[39mpylab_gui_select)\n\u001b[1;32m-> 3621\u001b[0m pt\u001b[38;5;241m.\u001b[39mactivate_matplotlib(backend)\n\u001b[0;32m   3622\u001b[0m configure_inline_support(\u001b[38;5;28mself\u001b[39m, backend)\n\u001b[0;32m   3624\u001b[0m \u001b[38;5;66;03m# Now we must activate the gui pylab wants to use, and fix %run to take\u001b[39;00m\n\u001b[0;32m   3625\u001b[0m \u001b[38;5;66;03m# plot updates into account\u001b[39;00m\n",
      "File \u001b[1;32m~\\anaconda3\\Lib\\site-packages\\IPython\\core\\pylabtools.py:368\u001b[0m, in \u001b[0;36mactivate_matplotlib\u001b[1;34m(backend)\u001b[0m\n\u001b[0;32m    363\u001b[0m \u001b[38;5;66;03m# Due to circular imports, pyplot may be only partially initialised\u001b[39;00m\n\u001b[0;32m    364\u001b[0m \u001b[38;5;66;03m# when this function runs.\u001b[39;00m\n\u001b[0;32m    365\u001b[0m \u001b[38;5;66;03m# So avoid needing matplotlib attribute-lookup to access pyplot.\u001b[39;00m\n\u001b[0;32m    366\u001b[0m \u001b[38;5;28;01mfrom\u001b[39;00m \u001b[38;5;21;01mmatplotlib\u001b[39;00m \u001b[38;5;28;01mimport\u001b[39;00m pyplot \u001b[38;5;28;01mas\u001b[39;00m plt\n\u001b[1;32m--> 368\u001b[0m plt\u001b[38;5;241m.\u001b[39mswitch_backend(backend)\n\u001b[0;32m    370\u001b[0m plt\u001b[38;5;241m.\u001b[39mshow\u001b[38;5;241m.\u001b[39m_needmain \u001b[38;5;241m=\u001b[39m \u001b[38;5;28;01mFalse\u001b[39;00m\n\u001b[0;32m    371\u001b[0m \u001b[38;5;66;03m# We need to detect at runtime whether show() is called by the user.\u001b[39;00m\n\u001b[0;32m    372\u001b[0m \u001b[38;5;66;03m# For this, we wrap it into a decorator which adds a 'called' flag.\u001b[39;00m\n",
      "File \u001b[1;32m~\\anaconda3\\Lib\\site-packages\\matplotlib\\pyplot.py:279\u001b[0m, in \u001b[0;36mswitch_backend\u001b[1;34m(newbackend)\u001b[0m\n\u001b[0;32m    276\u001b[0m     current_framework \u001b[38;5;241m=\u001b[39m cbook\u001b[38;5;241m.\u001b[39m_get_running_interactive_framework()\n\u001b[0;32m    277\u001b[0m     \u001b[38;5;28;01mif\u001b[39;00m (current_framework \u001b[38;5;129;01mand\u001b[39;00m required_framework\n\u001b[0;32m    278\u001b[0m             \u001b[38;5;129;01mand\u001b[39;00m current_framework \u001b[38;5;241m!=\u001b[39m required_framework):\n\u001b[1;32m--> 279\u001b[0m         \u001b[38;5;28;01mraise\u001b[39;00m \u001b[38;5;167;01mImportError\u001b[39;00m(\n\u001b[0;32m    280\u001b[0m             \u001b[38;5;124m\"\u001b[39m\u001b[38;5;124mCannot load backend \u001b[39m\u001b[38;5;132;01m{!r}\u001b[39;00m\u001b[38;5;124m which requires the \u001b[39m\u001b[38;5;132;01m{!r}\u001b[39;00m\u001b[38;5;124m interactive \u001b[39m\u001b[38;5;124m\"\u001b[39m\n\u001b[0;32m    281\u001b[0m             \u001b[38;5;124m\"\u001b[39m\u001b[38;5;124mframework, as \u001b[39m\u001b[38;5;132;01m{!r}\u001b[39;00m\u001b[38;5;124m is currently running\u001b[39m\u001b[38;5;124m\"\u001b[39m\u001b[38;5;241m.\u001b[39mformat(\n\u001b[0;32m    282\u001b[0m                 newbackend, required_framework, current_framework))\n\u001b[0;32m    284\u001b[0m \u001b[38;5;66;03m# Load the new_figure_manager() and show() functions from the backend.\u001b[39;00m\n\u001b[0;32m    285\u001b[0m \n\u001b[0;32m    286\u001b[0m \u001b[38;5;66;03m# Classically, backends can directly export these functions.  This should\u001b[39;00m\n\u001b[0;32m    287\u001b[0m \u001b[38;5;66;03m# keep working for backcompat.\u001b[39;00m\n\u001b[0;32m    288\u001b[0m new_figure_manager \u001b[38;5;241m=\u001b[39m \u001b[38;5;28mgetattr\u001b[39m(backend_mod, \u001b[38;5;124m\"\u001b[39m\u001b[38;5;124mnew_figure_manager\u001b[39m\u001b[38;5;124m\"\u001b[39m, \u001b[38;5;28;01mNone\u001b[39;00m)\n",
      "\u001b[1;31mImportError\u001b[0m: Cannot load backend 'TkAgg' which requires the 'tk' interactive framework, as 'qt' is currently running"
     ]
    }
   ],
   "source": [
    "import matplotlib.pyplot as plt\n",
    "import pandas as pd\n",
    "import os\n",
    "import numpy as np\n",
    "%matplotlib qt5\n",
    "\n",
    "x = np.linspace(0, 3*np.pi, 500)\n",
    "plt.plot(x, np.sin(x**2))\n",
    "plt.title('A simple chirp')\n",
    "plt.show()"
   ]
  },
  {
   "cell_type": "code",
   "execution_count": null,
   "id": "adfc1dce",
   "metadata": {},
   "outputs": [],
   "source": []
  }
 ],
 "metadata": {
  "kernelspec": {
   "display_name": "Python 3 (ipykernel)",
   "language": "python",
   "name": "python3"
  },
  "language_info": {
   "codemirror_mode": {
    "name": "ipython",
    "version": 3
   },
   "file_extension": ".py",
   "mimetype": "text/x-python",
   "name": "python",
   "nbconvert_exporter": "python",
   "pygments_lexer": "ipython3",
   "version": "3.11.5"
  }
 },
 "nbformat": 4,
 "nbformat_minor": 5
}
