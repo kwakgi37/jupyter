{
 "cells": [
  {
   "cell_type": "markdown",
   "id": "8ced2084",
   "metadata": {},
   "source": [
    "# 14. 이미지 변환(팽창)"
   ]
  },
  {
   "cell_type": "markdown",
   "id": "e01f3b91",
   "metadata": {},
   "source": [
    "## 이미지를 확장하여 작은 구멍을 채움\n",
    "흰색 영역의 외곽 픽셀 주변에 흰색을 추가"
   ]
  },
  {
   "cell_type": "code",
   "execution_count": 2,
   "id": "6da14e95",
   "metadata": {},
   "outputs": [],
   "source": [
    "import cv2\n",
    "import numpy as np\n",
    "\n",
    "kernal = np.ones((3, 3), dtype=np.uint8)\n",
    "#kernal\n",
    "\n",
    "img = cv2.imread('dilate.png', cv2.IMREAD_GRAYSCALE)\n",
    "dilate1 = cv2.dilate(img, kernal, iterations=1) # 반복 횟수\n",
    "dilate2 = cv2.dilate(img, kernal, iterations=2) # 반복 횟수\n",
    "dilate3 = cv2.dilate(img, kernal, iterations=3) # 반복 횟수\n",
    "\n",
    "cv2.imshow('gray', img)\n",
    "cv2.imshow('dilate1', dilate1)\n",
    "cv2.imshow('dilate2', dilate2)\n",
    "cv2.imshow('dilate3', dilate3)\n",
    "cv2.waitKey(0)\n",
    "cv2.destroyAllWindows()"
   ]
  },
  {
   "cell_type": "markdown",
   "id": "8b7c3f04",
   "metadata": {},
   "source": []
  },
  {
   "cell_type": "code",
   "execution_count": 9,
   "id": "e1785108",
   "metadata": {},
   "outputs": [],
   "source": [
    "import cv2\n",
    "import numpy as np\n",
    "\n",
    "kernal = np.ones((3, 3), dtype=np.uint8)\n",
    "#kernal\n",
    "\n",
    "img = cv2.imread('rainbow.png', cv2.IMREAD_GRAYSCALE)\n",
    "\n",
    "dilate = cv2.dilate(img, kernal, iterations=10)\n",
    "dilate2 = cv2.dilate(img, kernal, iterations=20)\n",
    "dilate3 = cv2.dilate(img, kernal, iterations=30)\n",
    "dilate4 = cv2.dilate(img, kernal, iterations=40)\n",
    "dilate5 = cv2.dilate(img, kernal, iterations=50)\n",
    "dilate6 = cv2.dilate(img, kernal, iterations=60)\n",
    "dilate7 = cv2.dilate(img, kernal, iterations=70)\n",
    "dilate8 = cv2.dilate(img, kernal, iterations=80)\n",
    "dilate9 = cv2.dilate(img, kernal, iterations=90)# 반복 횟수\n",
    "dilate10 = cv2.dilate(img, kernal, iterations=100)\n",
    "\n",
    "cv2.imshow('gray', img)\n",
    "cv2.imshow('dilate1', dilate)\n",
    "cv2.imshow('dilate2', dilate2)\n",
    "cv2.imshow('dilate3', dilate3)\n",
    "cv2.imshow('dilate4', dilate4)\n",
    "cv2.imshow('dilate5', dilate5)\n",
    "cv2.imshow('dilate6', dilate6)\n",
    "cv2.imshow('dilate7', dilate7)\n",
    "cv2.imshow('dilate8', dilate8)\n",
    "cv2.imshow('dilate9', dilate9)\n",
    "cv2.imshow('dilate10', dilate10)\n",
    "cv2.waitKey(0)\n",
    "cv2.destroyAllWindows()"
   ]
  },
  {
   "cell_type": "code",
   "execution_count": null,
   "id": "36f400b7",
   "metadata": {},
   "outputs": [],
   "source": []
  },
  {
   "cell_type": "code",
   "execution_count": null,
   "id": "608fd792",
   "metadata": {},
   "outputs": [],
   "source": []
  },
  {
   "cell_type": "code",
   "execution_count": null,
   "id": "71825a21",
   "metadata": {},
   "outputs": [],
   "source": []
  },
  {
   "cell_type": "code",
   "execution_count": null,
   "id": "0a7d0e0f",
   "metadata": {},
   "outputs": [],
   "source": []
  },
  {
   "cell_type": "code",
   "execution_count": null,
   "id": "9a5db6d7",
   "metadata": {},
   "outputs": [],
   "source": []
  }
 ],
 "metadata": {
  "kernelspec": {
   "display_name": "Python 3 (ipykernel)",
   "language": "python",
   "name": "python3"
  },
  "language_info": {
   "codemirror_mode": {
    "name": "ipython",
    "version": 3
   },
   "file_extension": ".py",
   "mimetype": "text/x-python",
   "name": "python",
   "nbconvert_exporter": "python",
   "pygments_lexer": "ipython3",
   "version": "3.11.5"
  }
 },
 "nbformat": 4,
 "nbformat_minor": 5
}
