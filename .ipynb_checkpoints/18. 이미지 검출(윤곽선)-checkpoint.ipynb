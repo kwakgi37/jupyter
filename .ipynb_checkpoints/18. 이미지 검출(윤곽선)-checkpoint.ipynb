{
 "cells": [
  {
   "cell_type": "markdown",
   "id": "ac43ca73",
   "metadata": {},
   "source": [
    "## 윤곽선(Contour): 경계선을 연결한 선"
   ]
  },
  {
   "cell_type": "code",
   "execution_count": 3,
   "id": "58476bc3",
   "metadata": {},
   "outputs": [],
   "source": [
    "import cv2\n",
    "\n",
    "img = cv2.imread('card.png')\n",
    "target_img = img.copy() # 사본 이미지\n",
    "\n",
    "gray = cv2.cvtColor(img, cv2.COLOR_BGR2GRAY)\n",
    "ret, otsu = cv2.threshold(gray, -1, 255, cv2.THRESH_BINARY | cv2.THRESH_OTSU)\n",
    "\n",
    "contours, hierarchy = cv2.findContours(otsu, cv2.RETR_LIST, cv2.CHAIN_APPROX_NONE)#윤곽선 검출\n",
    "#윤곽선 정보, 구조\n",
    "#이미지, 윤곽선 찾는 모드(mode), 윤곽선을 찾을 때 사용하는 근사치 방법(method) : CHAIN_APPROX_NONE, CHAIN_APPROX_SIMPLE\n",
    "\n",
    "COLOR = (0, 200, 0) # 녹색\n",
    "cv2.drawContours(target_img, contours, -1, COLOR, 2) #윤곽선 그리기, -1은 모든 윤곽선을 그려라\n",
    "# 대상 이미지, 윤곽선 정보, 인덱스(-1이면 전체), 색깔, 두께\n",
    "\n",
    "cv2.imshow('img',  img)\n",
    "cv2.imshow('gray', gray)\n",
    "cv2.imshow('otsu', otsu)\n",
    "cv2.imshow('contour', target_img)\n",
    "\n",
    "cv2.waitKey(0)\n",
    "cv2.destroyAllWindows()"
   ]
  },
  {
   "cell_type": "markdown",
   "id": "b16ba554",
   "metadata": {},
   "source": [
    "### 윤곽선 찾기 모드\n",
    "1. cv2.RETR_EXTERNAL : 가장 외곽의 윤곽선만 찾음\n",
    "1. cv2.RETR_LIST : 모든 윤곽선 찾음 (계층 정보 없음)\n",
    "1. cv2.RETR_TREE : 모든 윤곽선 찾음(계층 정보를 트리 구조로 생성)"
   ]
  },
  {
   "cell_type": "code",
   "execution_count": 4,
   "id": "0ed1cd23",
   "metadata": {},
   "outputs": [],
   "source": [
    "import cv2\n",
    "\n",
    "img = cv2.imread('card.png')\n",
    "target_img = img.copy() # 사본 이미지\n",
    "\n",
    "gray = cv2.cvtColor(img, cv2.COLOR_BGR2GRAY)\n",
    "ret, otsu = cv2.threshold(gray, -1, 255, cv2.THRESH_BINARY | cv2.THRESH_OTSU)\n",
    "\n",
    "contours, hierarchy = cv2.findContours(otsu, cv2.RETR_EXTERNAL, cv2.CHAIN_APPROX_NONE)\n",
    "#윤곽선 정보, 구조\n",
    "#이미지, 윤곽선 찾는 모드(mode), 윤곽선을 찾을 때 사용하는 근사치 방법(method)\n",
    "\n",
    "COLOR = (0, 200, 0) # 녹색\n",
    "cv2.drawContours(target_img, contours, -1, COLOR, 2) #윤곽선 그리기, -1은 모든 윤곽선을 그려라\n",
    "# 대상 이미지, 윤곽선 정보, 인덱스(-1이면 전체), 색깔, 두께\n",
    "\n",
    "cv2.imshow('img',  img)\n",
    "cv2.imshow('gray', gray)\n",
    "cv2.imshow('otsu', otsu)\n",
    "cv2.imshow('contour', target_img)\n",
    "\n",
    "cv2.waitKey(0)\n",
    "cv2.destroyAllWindows()"
   ]
  },
  {
   "cell_type": "code",
   "execution_count": 9,
   "id": "8a5be06f",
   "metadata": {},
   "outputs": [
    {
     "name": "stdout",
     "output_type": "stream",
     "text": [
      "[[[ 1 -1 -1 -1]\n",
      "  [ 2  0 -1 -1]\n",
      "  [10  1  3 -1]\n",
      "  [ 5 -1  4  2]\n",
      "  [-1 -1 -1  3]\n",
      "  [ 6  3 -1  2]\n",
      "  [ 7  5 -1  2]\n",
      "  [ 8  6 -1  2]\n",
      "  [-1  7  9  2]\n",
      "  [-1 -1 -1  8]\n",
      "  [18  2 11 -1]\n",
      "  [13 -1 12 10]\n",
      "  [-1 -1 -1 11]\n",
      "  [14 11 -1 10]\n",
      "  [15 13 -1 10]\n",
      "  [16 14 -1 10]\n",
      "  [-1 15 17 10]\n",
      "  [-1 -1 -1 16]\n",
      "  [26 10 19 -1]\n",
      "  [21 -1 20 18]\n",
      "  [-1 -1 -1 19]\n",
      "  [22 19 -1 18]\n",
      "  [23 21 -1 18]\n",
      "  [24 22 -1 18]\n",
      "  [-1 23 25 18]\n",
      "  [-1 -1 -1 24]\n",
      "  [34 18 27 -1]\n",
      "  [29 -1 28 26]\n",
      "  [-1 -1 -1 27]\n",
      "  [30 27 -1 26]\n",
      "  [31 29 -1 26]\n",
      "  [32 30 -1 26]\n",
      "  [-1 31 33 26]\n",
      "  [-1 -1 -1 32]\n",
      "  [35 26 -1 -1]\n",
      "  [-1 34 -1 -1]]]\n",
      "총 발견 갯수 : 36\n"
     ]
    }
   ],
   "source": [
    "import cv2\n",
    "\n",
    "img = cv2.imread('card.png')\n",
    "target_img = img.copy() # 사본 이미지\n",
    "\n",
    "gray = cv2.cvtColor(img, cv2.COLOR_BGR2GRAY)\n",
    "ret, otsu = cv2.threshold(gray, -1, 255, cv2.THRESH_BINARY | cv2.THRESH_OTSU)\n",
    "\n",
    "contours, hierarchy = cv2.findContours(otsu, cv2.RETR_TREE, cv2.CHAIN_APPROX_NONE)\n",
    "#윤곽선 정보, 구조\n",
    "#이미지, 윤곽선 찾는 모드(mode), 윤곽선을 찾을 때 사용하는 근사치 방법(method)\n",
    "print(hierarchy)\n",
    "print(f'총 발견 갯수 : {len(contours)}')\n",
    "COLOR = (0, 200, 0) # 녹색\n",
    "cv2.drawContours(target_img, contours, -1, COLOR, 2) #윤곽선 그리기, -1은 모든 윤곽선을 그려라\n",
    "# 대상 이미지, 윤곽선 정보, 인덱스(-1이면 전체), 색깔, 두께\n",
    "\n",
    "cv2.imshow('img',  img)\n",
    "cv2.imshow('gray', gray)\n",
    "cv2.imshow('otsu', otsu)\n",
    "cv2.imshow('contour', target_img)\n",
    "\n",
    "cv2.waitKey(0)\n",
    "cv2.destroyAllWindows()"
   ]
  },
  {
   "cell_type": "markdown",
   "id": "6c038357",
   "metadata": {},
   "source": [
    "## 경계 사각형\n",
    "윤곽선의 경계면을 둘러싸는 사각형\n",
    "> boundingRect()"
   ]
  },
  {
   "cell_type": "code",
   "execution_count": 11,
   "id": "759ed53d",
   "metadata": {},
   "outputs": [],
   "source": [
    "import cv2\n",
    "\n",
    "img = cv2.imread('card.png')\n",
    "target_img = img.copy() # 사본 이미지\n",
    "\n",
    "gray = cv2.cvtColor(img, cv2.COLOR_BGR2GRAY)\n",
    "ret, otsu = cv2.threshold(gray, -1, 255, cv2.THRESH_BINARY | cv2.THRESH_OTSU)\n",
    "\n",
    "contours, hierarchy = cv2.findContours(otsu, cv2.RETR_TREE, cv2.CHAIN_APPROX_NONE)\n",
    "\n",
    "COLOR = (0, 200, 0) # 녹색\n",
    "\n",
    "for cnt in contours:\n",
    "    x, y, width, height = cv2.boundingRect(cnt)\n",
    "    cv2.rectangle(target_img, (x, y), (x+width, y +height), COLOR, 2)\n",
    "\n",
    "cv2.imshow('img',  img)\n",
    "cv2.imshow('gray', gray)\n",
    "cv2.imshow('otsu', otsu)\n",
    "cv2.imshow('contour', target_img)\n",
    "\n",
    "cv2.waitKey(0)\n",
    "cv2.destroyAllWindows()"
   ]
  },
  {
   "cell_type": "markdown",
   "id": "dd54f14e",
   "metadata": {},
   "source": [
    "## 면적\n",
    "> contourArea()"
   ]
  },
  {
   "cell_type": "code",
   "execution_count": 14,
   "id": "f93432ce",
   "metadata": {},
   "outputs": [],
   "source": [
    "import cv2\n",
    "\n",
    "img = cv2.imread('card.png')\n",
    "target_img = img.copy() # 사본 이미지\n",
    "\n",
    "gray = cv2.cvtColor(img, cv2.COLOR_BGR2GRAY)\n",
    "ret, otsu = cv2.threshold(gray, -1, 255, cv2.THRESH_BINARY | cv2.THRESH_OTSU)\n",
    "\n",
    "contours, hierarchy = cv2.findContours(otsu, cv2.RETR_TREE, cv2.CHAIN_APPROX_NONE)\n",
    "\n",
    "COLOR = (0, 200, 0) # 녹색\n",
    "\n",
    "for cnt in contours:\n",
    "    if cv2.contourArea(cnt) > 25000:\n",
    "        x, y, width, height = cv2.boundingRect(cnt)\n",
    "        cv2.rectangle(target_img, (x, y), (x+width, y +height), COLOR, 2)\n",
    "\n",
    "cv2.imshow('img',  img)\n",
    "cv2.imshow('contour', target_img)\n",
    "\n",
    "cv2.waitKey(0)\n",
    "cv2.destroyAllWindows()"
   ]
  },
  {
   "cell_type": "markdown",
   "id": "fb7ac712",
   "metadata": {},
   "source": [
    "## 미니 프로젝트: 개별 카드 추출해서 파일 저장"
   ]
  },
  {
   "cell_type": "code",
   "execution_count": 15,
   "id": "f12b8015",
   "metadata": {},
   "outputs": [],
   "source": [
    "import cv2\n",
    "\n",
    "img = cv2.imread('card.png')\n",
    "target_img = img.copy() # 사본 이미지\n",
    "\n",
    "gray = cv2.cvtColor(img, cv2.COLOR_BGR2GRAY)\n",
    "ret, otsu = cv2.threshold(gray, -1, 255, cv2.THRESH_BINARY | cv2.THRESH_OTSU)\n",
    "\n",
    "contours, hierarchy = cv2.findContours(otsu, cv2.RETR_TREE, cv2.CHAIN_APPROX_NONE)\n",
    "\n",
    "COLOR = (0, 200, 0) # 녹색\n",
    "\n",
    "idx = 1\n",
    "for cnt in contours:\n",
    "    if cv2.contourArea(cnt) > 25000:\n",
    "        x, y, width, height = cv2.boundingRect(cnt)\n",
    "        cv2.rectangle(target_img, (x, y), (x+width, y +height), COLOR, 2)\n",
    "        \n",
    "        crop = img[y:y+height, x:x+width]\n",
    "        cv2.imshow(f'card_crop_{idx}',crop)\n",
    "        cv2.imwrite(f'card_crop_{idx}.png', crop) # 파일 저장\n",
    "        idx += 1\n",
    "        \n",
    "cv2.imshow('img',  img)\n",
    "cv2.imshow('contour', target_img)\n",
    "\n",
    "cv2.waitKey(0)\n",
    "cv2.destroyAllWindows()"
   ]
  },
  {
   "cell_type": "code",
   "execution_count": null,
   "id": "97fc7f13",
   "metadata": {},
   "outputs": [],
   "source": []
  }
 ],
 "metadata": {
  "kernelspec": {
   "display_name": "Python 3 (ipykernel)",
   "language": "python",
   "name": "python3"
  },
  "language_info": {
   "codemirror_mode": {
    "name": "ipython",
    "version": 3
   },
   "file_extension": ".py",
   "mimetype": "text/x-python",
   "name": "python",
   "nbconvert_exporter": "python",
   "pygments_lexer": "ipython3",
   "version": "3.11.5"
  }
 },
 "nbformat": 4,
 "nbformat_minor": 5
}
