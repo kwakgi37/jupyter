{
 "cells": [
  {
   "cell_type": "markdown",
   "id": "4f59fef2",
   "metadata": {},
   "source": [
    "# 11. 이미지 변형(흐림) 블러 처리\n",
    "\n",
    "외각선 검출같은 검사를 보다 단순하게 하기 위해 사용"
   ]
  },
  {
   "cell_type": "markdown",
   "id": "401f47f8",
   "metadata": {},
   "source": [
    "## 가우시안 블러\n",
    "보다 빠르고 정학학게 가능"
   ]
  },
  {
   "cell_type": "markdown",
   "id": "730bcfb8",
   "metadata": {},
   "source": [
    "커널 사이즈 변화에 따른 흐림"
   ]
  },
  {
   "cell_type": "code",
   "execution_count": 1,
   "id": "9409e153",
   "metadata": {},
   "outputs": [],
   "source": [
    "import cv2\n",
    "img = cv2.imread('img.jpg')\n",
    "\n",
    "# (3,3) (5,5) (7,7) 커널 사이즈는 홀수의 양수를 사용\n",
    "\n",
    "kernel_3 = cv2.GaussianBlur(img, (3, 3), 0) # 0은 표준편차\n",
    "kernel_5 = cv2.GaussianBlur(img, (5, 5), 0)\n",
    "kernel_7 = cv2.GaussianBlur(img, (7, 7), 0)\n",
    "\n",
    "cv2.imshow('img', img)\n",
    "cv2.imshow('kernel_3', kernel_3)\n",
    "cv2.imshow('kernel_5', kernel_5)\n",
    "cv2.imshow('kernel_7', kernel_7)\n",
    "cv2.waitKey(0)\n",
    "cv2.destroyAllWindows()"
   ]
  },
  {
   "cell_type": "markdown",
   "id": "035fb79e",
   "metadata": {},
   "source": [
    "표준 편차 변화에 따른 흐림"
   ]
  },
  {
   "cell_type": "code",
   "execution_count": 2,
   "id": "3bb7bfd8",
   "metadata": {},
   "outputs": [],
   "source": [
    "import cv2\n",
    "img = cv2.imread('img.jpg')\n",
    "\n",
    "# (3,3) (5,5) (7,7) 커널 사이즈는 홀수의 양수를 사용\n",
    "\n",
    "sigma_1 = cv2.GaussianBlur(img, (0, 0), 1) #sigmaX - 가우시안 커널의 x 방향의 표준 편차\n",
    "sigma_2 = cv2.GaussianBlur(img, (0, 0), 2)\n",
    "sigma_3 = cv2.GaussianBlur(img, (0, 0), 3)\n",
    "\n",
    "cv2.imshow('img', img)\n",
    "cv2.imshow('sigma_1', sigma_1)\n",
    "cv2.imshow('sigma_2', sigma_2)\n",
    "cv2.imshow('sigma_3', sigma_3)\n",
    "cv2.waitKey(0)\n",
    "cv2.destroyAllWindows()"
   ]
  },
  {
   "cell_type": "code",
   "execution_count": null,
   "id": "95a4de90",
   "metadata": {},
   "outputs": [],
   "source": []
  },
  {
   "cell_type": "code",
   "execution_count": null,
   "id": "eeb94b0f",
   "metadata": {},
   "outputs": [],
   "source": []
  },
  {
   "cell_type": "code",
   "execution_count": null,
   "id": "8d48c167",
   "metadata": {},
   "outputs": [],
   "source": []
  },
  {
   "cell_type": "code",
   "execution_count": null,
   "id": "94536ab6",
   "metadata": {},
   "outputs": [],
   "source": []
  },
  {
   "cell_type": "code",
   "execution_count": null,
   "id": "ce82b201",
   "metadata": {},
   "outputs": [],
   "source": []
  }
 ],
 "metadata": {
  "kernelspec": {
   "display_name": "Python 3 (ipykernel)",
   "language": "python",
   "name": "python3"
  },
  "language_info": {
   "codemirror_mode": {
    "name": "ipython",
    "version": 3
   },
   "file_extension": ".py",
   "mimetype": "text/x-python",
   "name": "python",
   "nbconvert_exporter": "python",
   "pygments_lexer": "ipython3",
   "version": "3.11.5"
  }
 },
 "nbformat": 4,
 "nbformat_minor": 5
}
