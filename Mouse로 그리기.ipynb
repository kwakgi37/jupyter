{
 "cells": [
  {
   "cell_type": "code",
   "execution_count": 2,
   "id": "2e560b66",
   "metadata": {},
   "outputs": [
    {
     "name": "stdout",
     "output_type": "stream",
     "text": [
      "['EVENT_FLAG_ALTKEY', 'EVENT_FLAG_CTRLKEY', 'EVENT_FLAG_LBUTTON', 'EVENT_FLAG_MBUTTON', 'EVENT_FLAG_RBUTTON', 'EVENT_FLAG_SHIFTKEY', 'EVENT_LBUTTONDBLCLK', 'EVENT_LBUTTONDOWN', 'EVENT_LBUTTONUP', 'EVENT_MBUTTONDBLCLK', 'EVENT_MBUTTONDOWN', 'EVENT_MBUTTONUP', 'EVENT_MOUSEHWHEEL', 'EVENT_MOUSEMOVE', 'EVENT_MOUSEWHEEL', 'EVENT_RBUTTONDBLCLK', 'EVENT_RBUTTONDOWN', 'EVENT_RBUTTONUP']\n"
     ]
    }
   ],
   "source": [
    "import cv2\n",
    "events = [i for i in dir(cv2) if 'EVENT' in i]\n",
    "print(events)"
   ]
  },
  {
   "cell_type": "code",
   "execution_count": 6,
   "id": "9498bc34",
   "metadata": {},
   "outputs": [],
   "source": [
    "import cv2\n",
    "import numpy as np\n",
    "\n",
    "def draw_circle(event, x, y, flags, param):\n",
    "    if event == cv2.EVENT_LBUTTONDBLCLK:\n",
    "        cv2.circle(img,(x,y), 100, (255,0,0), -1)\n",
    "        \n",
    "img = np.zeros((512,512,3), np.uint8)\n",
    "cv2.namedWindow('image')\n",
    "cv2.setMouseCallback('image', draw_circle)\n",
    "\n",
    "while(1):\n",
    "    cv2.imshow('image', img)\n",
    "    if cv2.waitKey(0) & 0xFF == 27:\n",
    "        break\n",
    "        \n",
    "cv2.destroyAllWindows()"
   ]
  },
  {
   "cell_type": "code",
   "execution_count": 10,
   "id": "b8124ac3",
   "metadata": {},
   "outputs": [],
   "source": [
    "import cv2\n",
    "import numpy as np \n",
    "\n",
    "drawing = False #Mouse가 클릭된 상태 확인용\n",
    "mode = True # True이면 사각형, false면 원\n",
    "ix,iy = -1,-1\n",
    "\n",
    "\n",
    "# Mouse Callback함수\n",
    "def draw_circle(event, x,y, flags, param):\n",
    "    global ix,iy, drawing, mode\n",
    "\n",
    "    if event == cv2.EVENT_LBUTTONDOWN: #마우스를 누른 상태\n",
    "        drawing = True \n",
    "        ix, iy = x,y\n",
    "    elif event == cv2.EVENT_MOUSEMOVE: # 마우스 이동\n",
    "        if drawing == True:            # 마우스를 누른 상태 일경우\n",
    "            if mode == True:\n",
    "                cv2.rectangle(img,(ix,iy),(x,y),(255,0,0),-1)\n",
    "            else:\n",
    "                cv2.circle(img,(x,y),5,(0,255,0),-1)\n",
    "\n",
    "    elif event == cv2.EVENT_LBUTTONUP:\n",
    "        drawing = False;             # 마우스를 때면 상태 변경\n",
    "        if mode == True:\n",
    "            cv2.rectangle(img,(ix,iy),(x,y),(255,0,0),-1)\n",
    "        else:\n",
    "            cv2.circle(img,(x,y),5,(0,255,0),-1)\n",
    "\n",
    "\n",
    "img = np.zeros((512,512,3), np.uint8)\n",
    "cv2.namedWindow('image')\n",
    "cv2.setMouseCallback('image',draw_circle)\n",
    "\n",
    "while True:\n",
    "    cv2.imshow('image', img)\n",
    "\n",
    "    k = cv2.waitKey(1) & 0xFF\n",
    "\n",
    "    if k == ord('m'):    # 사각형, 원 Mode변경\n",
    "        mode = not mode\n",
    "    elif k == 27:        # esc를 누르면 종료\n",
    "        break\n",
    "\n",
    "cv2.destroyAllWindows()"
   ]
  },
  {
   "cell_type": "code",
   "execution_count": null,
   "id": "ab65f08b",
   "metadata": {},
   "outputs": [],
   "source": []
  },
  {
   "cell_type": "code",
   "execution_count": null,
   "id": "c392cb5b",
   "metadata": {},
   "outputs": [],
   "source": []
  },
  {
   "cell_type": "code",
   "execution_count": null,
   "id": "8eecc7ef",
   "metadata": {},
   "outputs": [],
   "source": []
  },
  {
   "cell_type": "code",
   "execution_count": null,
   "id": "8cc3fe1e",
   "metadata": {},
   "outputs": [],
   "source": []
  }
 ],
 "metadata": {
  "kernelspec": {
   "display_name": "Python 3 (ipykernel)",
   "language": "python",
   "name": "python3"
  },
  "language_info": {
   "codemirror_mode": {
    "name": "ipython",
    "version": 3
   },
   "file_extension": ".py",
   "mimetype": "text/x-python",
   "name": "python",
   "nbconvert_exporter": "python",
   "pygments_lexer": "ipython3",
   "version": "3.11.5"
  }
 },
 "nbformat": 4,
 "nbformat_minor": 5
}
